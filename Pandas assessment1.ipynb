{
 "cells": [
  {
   "cell_type": "raw",
   "metadata": {},
   "source": [
    "1) How-to-count-distance-to-the-previous-zero For each value, count the difference of the distance from the previous zero (or the start of the Series, whichever is closer) and if there are no previous zeros,print the position Consider a DataFrame df where there is an integer column {'X':[7, 2, 0, 3, 4, 2, 5, 0, 3, 4]} The values should therefore be [1, 2, 0, 1, 2, 3, 4, 0, 1, 2]. Make this a new column 'Y'. import pandas as pd df = pd.DataFrame({'X': [7, 2, 0, 3, 4, 2, 5, 0, 3, 4]}) 2) Create a DatetimeIndex that contains each business day of 2015 and use it to index a Series of random numbers. 3) Find the sum of the values in s for every Wednesday 4) Average For each calendar month 5) For each group of four consecutive calendar months in s, find the date on which the highest value occurred."
   ]
  },
  {
   "cell_type": "code",
   "execution_count": 1,
   "metadata": {},
   "outputs": [],
   "source": [
    "import pandas as pd\n",
    "import numpy as np"
   ]
  },
  {
   "cell_type": "code",
   "execution_count": 2,
   "metadata": {},
   "outputs": [],
   "source": [
    "df = pd.DataFrame({'X': [7, 2, 0, 3, 4, 2, 5, 0, 3, 4]})"
   ]
  },
  {
   "cell_type": "code",
   "execution_count": 3,
   "metadata": {},
   "outputs": [],
   "source": [
    "x = (df['X'] != 0).cumsum()\n",
    "y = x != x.shift()\n",
    "df['Y'] = y.groupby((y != y.shift()).cumsum()).cumsum()"
   ]
  },
  {
   "cell_type": "code",
   "execution_count": 4,
   "metadata": {},
   "outputs": [
    {
     "data": {
      "text/html": [
       "<div>\n",
       "<style scoped>\n",
       "    .dataframe tbody tr th:only-of-type {\n",
       "        vertical-align: middle;\n",
       "    }\n",
       "\n",
       "    .dataframe tbody tr th {\n",
       "        vertical-align: top;\n",
       "    }\n",
       "\n",
       "    .dataframe thead th {\n",
       "        text-align: right;\n",
       "    }\n",
       "</style>\n",
       "<table border=\"1\" class=\"dataframe\">\n",
       "  <thead>\n",
       "    <tr style=\"text-align: right;\">\n",
       "      <th></th>\n",
       "      <th>X</th>\n",
       "      <th>Y</th>\n",
       "    </tr>\n",
       "  </thead>\n",
       "  <tbody>\n",
       "    <tr>\n",
       "      <th>0</th>\n",
       "      <td>7</td>\n",
       "      <td>1.0</td>\n",
       "    </tr>\n",
       "    <tr>\n",
       "      <th>1</th>\n",
       "      <td>2</td>\n",
       "      <td>2.0</td>\n",
       "    </tr>\n",
       "    <tr>\n",
       "      <th>2</th>\n",
       "      <td>0</td>\n",
       "      <td>0.0</td>\n",
       "    </tr>\n",
       "    <tr>\n",
       "      <th>3</th>\n",
       "      <td>3</td>\n",
       "      <td>1.0</td>\n",
       "    </tr>\n",
       "    <tr>\n",
       "      <th>4</th>\n",
       "      <td>4</td>\n",
       "      <td>2.0</td>\n",
       "    </tr>\n",
       "    <tr>\n",
       "      <th>5</th>\n",
       "      <td>2</td>\n",
       "      <td>3.0</td>\n",
       "    </tr>\n",
       "    <tr>\n",
       "      <th>6</th>\n",
       "      <td>5</td>\n",
       "      <td>4.0</td>\n",
       "    </tr>\n",
       "    <tr>\n",
       "      <th>7</th>\n",
       "      <td>0</td>\n",
       "      <td>0.0</td>\n",
       "    </tr>\n",
       "    <tr>\n",
       "      <th>8</th>\n",
       "      <td>3</td>\n",
       "      <td>1.0</td>\n",
       "    </tr>\n",
       "    <tr>\n",
       "      <th>9</th>\n",
       "      <td>4</td>\n",
       "      <td>2.0</td>\n",
       "    </tr>\n",
       "  </tbody>\n",
       "</table>\n",
       "</div>"
      ],
      "text/plain": [
       "   X    Y\n",
       "0  7  1.0\n",
       "1  2  2.0\n",
       "2  0  0.0\n",
       "3  3  1.0\n",
       "4  4  2.0\n",
       "5  2  3.0\n",
       "6  5  4.0\n",
       "7  0  0.0\n",
       "8  3  1.0\n",
       "9  4  2.0"
      ]
     },
     "execution_count": 4,
     "metadata": {},
     "output_type": "execute_result"
    }
   ],
   "source": [
    "df"
   ]
  },
  {
   "cell_type": "code",
   "execution_count": 5,
   "metadata": {},
   "outputs": [],
   "source": [
    "datetimeindex = pd.date_range(start='2015-01-01', end='2015-12-31')\n",
    "s = pd.Series(np.random.rand(len(datetimeindex)),index=datetimeindex)"
   ]
  },
  {
   "cell_type": "code",
   "execution_count": 6,
   "metadata": {},
   "outputs": [
    {
     "data": {
      "text/plain": [
       "2015-01-01    0.782432\n",
       "2015-01-02    0.904587\n",
       "2015-01-03    0.777259\n",
       "2015-01-04    0.455112\n",
       "2015-01-05    0.581347\n",
       "2015-01-06    0.529408\n",
       "2015-01-07    0.441668\n",
       "2015-01-08    0.307004\n",
       "2015-01-09    0.956744\n",
       "2015-01-10    0.892418\n",
       "2015-01-11    0.862300\n",
       "2015-01-12    0.817056\n",
       "2015-01-13    0.173147\n",
       "2015-01-14    0.487340\n",
       "2015-01-15    0.284197\n",
       "2015-01-16    0.503907\n",
       "2015-01-17    0.805227\n",
       "2015-01-18    0.617375\n",
       "2015-01-19    0.550262\n",
       "2015-01-20    0.956968\n",
       "2015-01-21    0.629693\n",
       "2015-01-22    0.338167\n",
       "2015-01-23    0.817071\n",
       "2015-01-24    0.732369\n",
       "2015-01-25    0.408266\n",
       "2015-01-26    0.608969\n",
       "2015-01-27    0.574394\n",
       "2015-01-28    0.542810\n",
       "2015-01-29    0.954023\n",
       "2015-01-30    0.726722\n",
       "                ...   \n",
       "2015-12-02    0.309970\n",
       "2015-12-03    0.417054\n",
       "2015-12-04    0.447028\n",
       "2015-12-05    0.502250\n",
       "2015-12-06    0.210603\n",
       "2015-12-07    0.453421\n",
       "2015-12-08    0.712662\n",
       "2015-12-09    0.303346\n",
       "2015-12-10    0.898586\n",
       "2015-12-11    0.317705\n",
       "2015-12-12    0.228545\n",
       "2015-12-13    0.655930\n",
       "2015-12-14    0.519631\n",
       "2015-12-15    0.269933\n",
       "2015-12-16    0.411433\n",
       "2015-12-17    0.130086\n",
       "2015-12-18    0.007097\n",
       "2015-12-19    0.853425\n",
       "2015-12-20    0.988285\n",
       "2015-12-21    0.674489\n",
       "2015-12-22    0.693650\n",
       "2015-12-23    0.863810\n",
       "2015-12-24    0.366801\n",
       "2015-12-25    0.855226\n",
       "2015-12-26    0.879723\n",
       "2015-12-27    0.631147\n",
       "2015-12-28    0.346462\n",
       "2015-12-29    0.362436\n",
       "2015-12-30    0.027791\n",
       "2015-12-31    0.014968\n",
       "Freq: D, Length: 365, dtype: float64"
      ]
     },
     "execution_count": 6,
     "metadata": {},
     "output_type": "execute_result"
    }
   ],
   "source": [
    "s"
   ]
  },
  {
   "cell_type": "code",
   "execution_count": 7,
   "metadata": {},
   "outputs": [
    {
     "data": {
      "text/plain": [
       "29.442790550749237"
      ]
     },
     "execution_count": 7,
     "metadata": {},
     "output_type": "execute_result"
    }
   ],
   "source": [
    "s[datetimeindex.weekday_name == 'Wednesday'].sum()"
   ]
  },
  {
   "cell_type": "code",
   "execution_count": 8,
   "metadata": {},
   "outputs": [
    {
     "data": {
      "text/plain": [
       "2015-01-31    0.643776\n",
       "2015-02-28    0.576679\n",
       "2015-03-31    0.483310\n",
       "2015-04-30    0.419144\n",
       "2015-05-31    0.471260\n",
       "2015-06-30    0.567462\n",
       "2015-07-31    0.575144\n",
       "2015-08-31    0.546792\n",
       "2015-09-30    0.563167\n",
       "2015-10-31    0.508907\n",
       "2015-11-30    0.460957\n",
       "2015-12-31    0.463232\n",
       "Freq: M, dtype: float64"
      ]
     },
     "execution_count": 8,
     "metadata": {},
     "output_type": "execute_result"
    }
   ],
   "source": [
    "s.groupby(pd.Grouper(freq='M')).mean()"
   ]
  },
  {
   "cell_type": "code",
   "execution_count": 9,
   "metadata": {},
   "outputs": [
    {
     "data": {
      "text/plain": [
       "2015-01-31    0.956968\n",
       "2015-05-31    0.996959\n",
       "2015-09-30    0.992787\n",
       "2016-01-31    0.988285\n",
       "dtype: float64"
      ]
     },
     "execution_count": 9,
     "metadata": {},
     "output_type": "execute_result"
    }
   ],
   "source": [
    "s.groupby(pd.Grouper(freq='4M')).max()"
   ]
  },
  {
   "cell_type": "code",
   "execution_count": null,
   "metadata": {},
   "outputs": [],
   "source": []
  }
 ],
 "metadata": {
  "kernelspec": {
   "display_name": "Python 3",
   "language": "python",
   "name": "python3"
  },
  "language_info": {
   "codemirror_mode": {
    "name": "ipython",
    "version": 3
   },
   "file_extension": ".py",
   "mimetype": "text/x-python",
   "name": "python",
   "nbconvert_exporter": "python",
   "pygments_lexer": "ipython3",
   "version": "3.7.0"
  }
 },
 "nbformat": 4,
 "nbformat_minor": 2
}
